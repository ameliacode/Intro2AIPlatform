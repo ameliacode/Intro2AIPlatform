{
  "nbformat": 4,
  "nbformat_minor": 0,
  "metadata": {
    "colab": {
      "name": "Lab-1 Assignment.ipynb",
      "provenance": [],
      "collapsed_sections": [
        "P9pIbheHhp7R",
        "xLpNGw_ZjTRA",
        "58KTZYE7ifcq",
        "sAjY6cimlP3g"
      ]
    },
    "kernelspec": {
      "display_name": "Python 3",
      "name": "python3"
    },
    "language_info": {
      "name": "python"
    }
  },
  "cells": [
    {
      "cell_type": "markdown",
      "metadata": {
        "id": "0lF6mricfTkI"
      },
      "source": [
        "# EasyMocap\n",
        "\n",
        "Demo of the original PyTorch based implementation provided [here](https://github.com/zju3dv/EasyMocap)\n",
        "\n",
        "## Note\n",
        "\n",
        "Before running this notebook make sure that your runtime type is 'Python 3 with GPU acceleration'. Go to Edit > Notebook settings > Hardware Accelerator > Select \"GPU\"."
      ]
    },
    {
      "cell_type": "markdown",
      "metadata": {
        "id": "P9pIbheHhp7R"
      },
      "source": [
        "## 1.Install osmesa for rendering"
      ]
    },
    {
      "cell_type": "code",
      "metadata": {
        "colab": {
          "base_uri": "https://localhost:8080/"
        },
        "id": "qpSbHBoxFJep",
        "outputId": "821f4fcc-5448-4bf7-e8b5-c5aa265ee1ab"
      },
      "source": [
        "!sudo apt update > output.txt\n",
        "!sudo wget https://github.com/mmatl/travis_debs/raw/master/xenial/mesa_18.3.3-0.deb > output.txt\n",
        "!sudo dpkg -i ./mesa_18.3.3-0.deb || true > output.txt\n",
        "!sudo apt install -f > output.txt"
      ],
      "execution_count": null,
      "outputs": [
        {
          "output_type": "stream",
          "name": "stdout",
          "text": [
            "\n",
            "WARNING: apt does not have a stable CLI interface. Use with caution in scripts.\n",
            "\n",
            "--2021-09-06 09:14:41--  https://github.com/mmatl/travis_debs/raw/master/xenial/mesa_18.3.3-0.deb\n",
            "Resolving github.com (github.com)... 140.82.114.3\n",
            "Connecting to github.com (github.com)|140.82.114.3|:443... connected.\n",
            "HTTP request sent, awaiting response... 302 Found\n",
            "Location: https://raw.githubusercontent.com/mmatl/travis_debs/master/xenial/mesa_18.3.3-0.deb [following]\n",
            "--2021-09-06 09:14:41--  https://raw.githubusercontent.com/mmatl/travis_debs/master/xenial/mesa_18.3.3-0.deb\n",
            "Resolving raw.githubusercontent.com (raw.githubusercontent.com)... 185.199.109.133, 185.199.108.133, 185.199.111.133, ...\n",
            "Connecting to raw.githubusercontent.com (raw.githubusercontent.com)|185.199.109.133|:443... connected.\n",
            "HTTP request sent, awaiting response... 200 OK\n",
            "Length: 31776942 (30M) [application/octet-stream]\n",
            "Saving to: ‘mesa_18.3.3-0.deb’\n",
            "\n",
            "mesa_18.3.3-0.deb   100%[===================>]  30.30M   149MB/s    in 0.2s    \n",
            "\n",
            "2021-09-06 09:14:42 (149 MB/s) - ‘mesa_18.3.3-0.deb’ saved [31776942/31776942]\n",
            "\n",
            "Selecting previously unselected package mesa.\n",
            "(Reading database ... 148492 files and directories currently installed.)\n",
            "Preparing to unpack ./mesa_18.3.3-0.deb ...\n",
            "Unpacking mesa (18.3.3-0) ...\n",
            "\u001b[1mdpkg:\u001b[0m dependency problems prevent configuration of mesa:\n",
            " mesa depends on llvm-6.0; however:\n",
            "  Package llvm-6.0 is not installed.\n",
            " mesa depends on llvm-6.0-tools; however:\n",
            "  Package llvm-6.0-tools is not installed.\n",
            "\n",
            "\u001b[1mdpkg:\u001b[0m error processing package mesa (--install):\n",
            " dependency problems - leaving unconfigured\n",
            "Errors were encountered while processing:\n",
            " mesa\n",
            "\n",
            "WARNING: apt does not have a stable CLI interface. Use with caution in scripts.\n",
            "\n",
            "debconf: unable to initialize frontend: Dialog\n",
            "debconf: (No usable dialog-like program is installed, so the dialog based frontend cannot be used. at /usr/share/perl5/Debconf/FrontEnd/Dialog.pm line 76, <> line 6.)\n",
            "debconf: falling back to frontend: Readline\n",
            "debconf: unable to initialize frontend: Readline\n",
            "debconf: (This frontend requires a controlling tty.)\n",
            "debconf: falling back to frontend: Teletype\n",
            "dpkg-preconfigure: unable to re-open stdin: \n"
          ]
        }
      ]
    },
    {
      "cell_type": "markdown",
      "metadata": {
        "id": "xLpNGw_ZjTRA"
      },
      "source": [
        "### Install pyopengl"
      ]
    },
    {
      "cell_type": "code",
      "metadata": {
        "colab": {
          "base_uri": "https://localhost:8080/"
        },
        "id": "9ObUpRG5Fhph",
        "outputId": "5040ce4e-d220-4993-ca0e-12810ea9fccc"
      },
      "source": [
        "!git clone https://github.com/mmatl/pyopengl.git  > output.txt\n",
        "!pip install ./pyopengl  > output.txt"
      ],
      "execution_count": null,
      "outputs": [
        {
          "output_type": "stream",
          "name": "stdout",
          "text": [
            "Cloning into 'pyopengl'...\n",
            "remote: Enumerating objects: 26044, done.\u001b[K\n",
            "remote: Total 26044 (delta 0), reused 0 (delta 0), pack-reused 26044\u001b[K\n",
            "Receiving objects: 100% (26044/26044), 23.93 MiB | 20.95 MiB/s, done.\n",
            "Resolving deltas: 100% (21690/21690), done.\n",
            "\u001b[33m  DEPRECATION: A future pip version will change local packages to be built in-place without first copying to a temporary directory. We recommend you use --use-feature=in-tree-build to test your packages with this new behavior before it becomes the default.\n",
            "   pip 21.3 will remove support for this functionality. You can find discussion regarding this at https://github.com/pypa/pip/issues/7555.\u001b[0m\n"
          ]
        }
      ]
    },
    {
      "cell_type": "markdown",
      "metadata": {
        "id": "rUTQCsh3jlOI"
      },
      "source": [
        "## 2.Install EasyMocap"
      ]
    },
    {
      "cell_type": "code",
      "metadata": {
        "colab": {
          "base_uri": "https://localhost:8080/"
        },
        "id": "oZNqErZxrAKV",
        "outputId": "3dbac321-1f2c-4371-f46d-63af573c3d31"
      },
      "source": [
        "!git clone https://github.com/zju3dv/EasyMocap.git"
      ],
      "execution_count": null,
      "outputs": [
        {
          "output_type": "stream",
          "name": "stdout",
          "text": [
            "Cloning into 'EasyMocap'...\n",
            "remote: Enumerating objects: 805, done.\u001b[K\n",
            "remote: Counting objects: 100% (805/805), done.\u001b[K\n",
            "remote: Compressing objects: 100% (547/547), done.\u001b[K\n",
            "remote: Total 805 (delta 394), reused 597 (delta 228), pack-reused 0\u001b[K\n",
            "Receiving objects: 100% (805/805), 65.25 MiB | 34.02 MiB/s, done.\n",
            "Resolving deltas: 100% (394/394), done.\n"
          ]
        }
      ]
    },
    {
      "cell_type": "code",
      "metadata": {
        "colab": {
          "base_uri": "https://localhost:8080/"
        },
        "id": "31EhSQzvrN0z",
        "outputId": "a610138d-dc4b-4f29-f630-2fbb025bcf46"
      },
      "source": [
        "!pip install -r ./EasyMocap/requirements.txt > output.txt\n",
        "!pip install chumpy > output.txt"
      ],
      "execution_count": null,
      "outputs": [
        {
          "output_type": "stream",
          "name": "stdout",
          "text": [
            "\u001b[31mERROR: pip's dependency resolver does not currently take into account all the packages that are installed. This behaviour is the source of the following dependency conflicts.\n",
            "torchtext 0.10.0 requires torch==1.9.0, but you have torch 1.4.0 which is incompatible.\n",
            "jupyter-console 5.2.0 requires prompt-toolkit<2.0.0,>=1.0.0, but you have prompt-toolkit 3.0.20 which is incompatible.\n",
            "google-colab 1.0.0 requires ipython~=5.5.0, but you have ipython 7.27.0 which is incompatible.\u001b[0m\n"
          ]
        }
      ]
    },
    {
      "cell_type": "code",
      "metadata": {
        "colab": {
          "base_uri": "https://localhost:8080/"
        },
        "id": "9tZj6BSguI87",
        "outputId": "f8c219b6-bf1e-4670-d56e-cad51a00e291"
      },
      "source": [
        "%cd EasyMocap\n",
        "!python setup.py develop --user\n",
        "%cd .."
      ],
      "execution_count": null,
      "outputs": [
        {
          "output_type": "stream",
          "name": "stdout",
          "text": [
            "/content/EasyMocap\n",
            "running develop\n",
            "running egg_info\n",
            "creating easymocap.egg-info\n",
            "writing easymocap.egg-info/PKG-INFO\n",
            "writing dependency_links to easymocap.egg-info/dependency_links.txt\n",
            "writing top-level names to easymocap.egg-info/top_level.txt\n",
            "writing manifest file 'easymocap.egg-info/SOURCES.txt'\n",
            "adding license file 'LICENSE'\n",
            "writing manifest file 'easymocap.egg-info/SOURCES.txt'\n",
            "running build_ext\n",
            "Creating /root/.local/lib/python3.7/site-packages/easymocap.egg-link (link to .)\n",
            "Adding easymocap 0.2 to easy-install.pth file\n",
            "\n",
            "Installed /content/EasyMocap\n",
            "Processing dependencies for easymocap==0.2\n",
            "Finished processing dependencies for easymocap==0.2\n",
            "/content\n"
          ]
        }
      ]
    },
    {
      "cell_type": "markdown",
      "metadata": {
        "id": "58KTZYE7ifcq"
      },
      "source": [
        "## 3.Download raw data"
      ]
    },
    {
      "cell_type": "code",
      "metadata": {
        "colab": {
          "base_uri": "https://localhost:8080/"
        },
        "id": "GNPFlIn1rO5i",
        "outputId": "d7010f5d-3922-491f-9a93-f87ed695c22b"
      },
      "source": [
        "!gdown \"https://drive.google.com/uc?id=1untXhYOLQtpNEy4GTY_0fL_H-k6cTf_r\"\n",
        "!unzip vibe_data.zip"
      ],
      "execution_count": null,
      "outputs": [
        {
          "output_type": "stream",
          "name": "stdout",
          "text": [
            "Downloading...\n",
            "From: https://drive.google.com/uc?id=1untXhYOLQtpNEy4GTY_0fL_H-k6cTf_r\n",
            "To: /content/vibe_data.zip\n",
            "561MB [00:04, 123MB/s]\n",
            "Archive:  vibe_data.zip\n",
            "   creating: vibe_data/\n",
            "  inflating: vibe_data/smpl_mean_params.npz  \n",
            "  inflating: vibe_data/vibe_model_w_3dpw.pth.tar  \n",
            "  inflating: vibe_data/gmm_08.pkl    \n",
            "  inflating: vibe_data/J_regressor_h36m.npy  \n",
            "  inflating: vibe_data/vibe_model_wo_3dpw.pth.tar  \n",
            "  inflating: vibe_data/SMPL_NEUTRAL.pkl  \n",
            "  inflating: vibe_data/J_regressor_extra.npy  \n",
            "  inflating: vibe_data/spin_model_checkpoint.pth.tar  \n",
            "  inflating: vibe_data/sample_video.mp4  \n",
            "  inflating: vibe_data/yolov3.weights  \n"
          ]
        }
      ]
    },
    {
      "cell_type": "code",
      "metadata": {
        "id": "Pb6XxtU6rnoq"
      },
      "source": [
        "!mkdir /content/EasyMocap/data/smplx/smpl\n",
        "!mv ./vibe_data/SMPL_NEUTRAL.pkl /content/EasyMocap/data/smplx/smpl"
      ],
      "execution_count": null,
      "outputs": []
    },
    {
      "cell_type": "code",
      "metadata": {
        "colab": {
          "base_uri": "https://localhost:8080/"
        },
        "id": "TNkIC0AxsCX6",
        "outputId": "4ae197a9-9967-471e-9fd1-ffa6ccb3d596"
      },
      "source": [
        "!gdown \"https://drive.google.com/uc?id=1AxvwcDgRm1zX7UVBojWRwZbBX7YMikXJ\"\n",
        "!mkdir data\n",
        "!unzip zju-ls-feng.zip -d ./data > output.txt"
      ],
      "execution_count": null,
      "outputs": [
        {
          "output_type": "stream",
          "name": "stdout",
          "text": [
            "Downloading...\n",
            "From: https://drive.google.com/uc?id=1AxvwcDgRm1zX7UVBojWRwZbBX7YMikXJ\n",
            "To: /content/zju-ls-feng.zip\n",
            "115MB [00:00, 150MB/s] \n"
          ]
        }
      ]
    },
    {
      "cell_type": "markdown",
      "metadata": {
        "id": "Ws918HeQhyxP"
      },
      "source": [
        "## 4.Run the demo"
      ]
    },
    {
      "cell_type": "markdown",
      "metadata": {
        "id": "sAjY6cimlP3g"
      },
      "source": [
        "### 0. Extract the video to images"
      ]
    },
    {
      "cell_type": "code",
      "metadata": {
        "colab": {
          "base_uri": "https://localhost:8080/"
        },
        "id": "sC0keK-UubkT",
        "outputId": "732ff14f-aca0-49f6-ba74-3781a0991ca7"
      },
      "source": [
        "!python /content/EasyMocap/scripts/preprocess/extract_video.py /content/data --handface "
      ],
      "execution_count": null,
      "outputs": [
        {
          "output_type": "stream",
          "name": "stdout",
          "text": [
            "1.mp4     : 100% 800/800 [00:18<00:00, 43.81it/s]\n",
            "10.mp4    : 100% 800/800 [00:18<00:00, 43.77it/s]\n",
            "11.mp4    : 100% 800/800 [00:18<00:00, 43.12it/s]\n",
            "12.mp4    : 100% 800/800 [00:18<00:00, 43.15it/s]\n",
            "13.mp4    : 100% 800/800 [00:18<00:00, 43.91it/s]\n",
            "14.mp4    : 100% 800/800 [00:18<00:00, 43.56it/s]\n",
            "15.mp4    : 100% 800/800 [00:18<00:00, 44.06it/s]\n",
            "16.mp4    : 100% 800/800 [00:18<00:00, 43.71it/s]\n",
            "17.mp4    : 100% 800/800 [00:18<00:00, 43.37it/s]\n",
            "18.mp4    : 100% 800/800 [00:18<00:00, 43.81it/s]\n",
            "19.mp4    : 100% 800/800 [00:18<00:00, 43.45it/s]\n",
            "2.mp4     : 100% 800/800 [00:18<00:00, 43.60it/s]\n",
            "20.mp4    : 100% 800/800 [00:18<00:00, 43.31it/s]\n",
            "21.mp4    : 100% 800/800 [00:18<00:00, 43.68it/s]\n",
            "22.mp4    : 100% 800/800 [00:18<00:00, 43.96it/s]\n",
            "23.mp4    : 100% 800/800 [00:18<00:00, 43.86it/s]\n",
            "3.mp4     : 100% 800/800 [00:18<00:00, 43.33it/s]\n",
            "4.mp4     : 100% 800/800 [00:18<00:00, 43.00it/s]\n",
            "5.mp4     : 100% 800/800 [00:18<00:00, 43.21it/s]\n",
            "6.mp4     : 100% 800/800 [00:18<00:00, 43.35it/s]\n",
            "7.mp4     : 100% 800/800 [00:18<00:00, 43.44it/s]\n",
            "8.mp4     : 100% 800/800 [00:18<00:00, 43.90it/s]\n",
            "9.mp4     : 100% 800/800 [00:18<00:00, 43.53it/s]\n",
            "cameras:  1 10 11 12 13 14 15 16 17 18 19 2 20 21 22 23 3 4 5 6 7 8 9\n",
            "1         : 100% 800/800 [00:13<00:00, 60.47it/s]\n",
            "10        : 100% 800/800 [00:13<00:00, 60.67it/s]\n",
            "11        : 100% 800/800 [00:13<00:00, 59.63it/s]\n",
            "12        : 100% 800/800 [00:13<00:00, 59.79it/s]\n",
            "13        : 100% 800/800 [00:13<00:00, 59.22it/s]\n",
            "14        : 100% 800/800 [00:13<00:00, 58.63it/s]\n",
            "15        : 100% 800/800 [00:13<00:00, 59.31it/s]\n",
            "16        : 100% 800/800 [00:13<00:00, 60.24it/s]\n",
            "17        : 100% 800/800 [00:13<00:00, 60.77it/s]\n",
            "18        : 100% 800/800 [00:12<00:00, 61.57it/s]\n",
            "19        : 100% 800/800 [00:13<00:00, 61.20it/s]\n",
            "2         : 100% 800/800 [00:13<00:00, 60.86it/s]\n",
            "20        : 100% 800/800 [00:13<00:00, 60.30it/s]\n",
            "21        : 100% 800/800 [00:13<00:00, 60.67it/s]\n",
            "22        : 100% 800/800 [00:13<00:00, 60.99it/s]\n",
            "23        : 100% 800/800 [00:13<00:00, 60.83it/s]\n",
            "3         : 100% 800/800 [00:13<00:00, 59.93it/s]\n",
            "4         : 100% 800/800 [00:13<00:00, 59.16it/s]\n",
            "5         : 100% 800/800 [00:13<00:00, 60.37it/s]\n",
            "6         : 100% 800/800 [00:13<00:00, 60.82it/s]\n",
            "7         : 100% 800/800 [00:13<00:00, 61.46it/s]\n",
            "8         : 100% 800/800 [00:13<00:00, 61.26it/s]\n",
            "9         : 100% 800/800 [00:13<00:00, 61.25it/s]\n"
          ]
        }
      ]
    },
    {
      "cell_type": "markdown",
      "metadata": {
        "id": "aGayCO4LllbA"
      },
      "source": [
        "### 1.SMPL reconstruction"
      ]
    },
    {
      "cell_type": "code",
      "metadata": {
        "colab": {
          "base_uri": "https://localhost:8080/"
        },
        "id": "myb0NT3WudSj",
        "outputId": "f485e559-2361-4881-91de-421fb1f2fe9b"
      },
      "source": [
        "%cd EasyMocap\n",
        "!PYOPENGL_PLATFORM=osmesa python /content/EasyMocap/apps/demo/mv1p.py /content/data --out /content/data/output/smpl --vis_det --vis_repro --undis --sub_vis 1 7 13 19 --vis_smpl\n",
        "%cd .."
      ],
      "execution_count": null,
      "outputs": [
        {
          "output_type": "stream",
          "name": "stdout",
          "text": [
            "/content/EasyMocap\n",
            "\n",
            "  Demo code for multiple views and one person:\n",
            "\n",
            "    - Input : /content/data => 1, 2, 3, 4, 5, 6, 7, 8, 9, 10, 11, 12, 13, 14, 15, 16, 17, 18, 19, 20, 21, 22, 23\n",
            "    - Output: /content/data/output/smpl\n",
            "    - Body  : smpl=>neutral, body25\n",
            "\n",
            "triangulation: 100% 800/800 [12:27<00:00,  1.07it/s]\n",
            "dump: 100% 800/800 [00:00<00:00, 4430.34it/s]\n",
            "loading: 100% 800/800 [00:06<00:00, 114.66it/s]\n",
            "-> [Optimize global RT  ]:   9.1s\n",
            "-> [Optimize 3D Pose/800 frames]:  57.6s\n",
            "-> [Optimize 2D Pose/800 frames]:   4.8s\n",
            "render:  69% 552/800 [22:10<09:53,  2.39s/it]"
          ]
        }
      ]
    },
    {
      "cell_type": "markdown",
      "metadata": {
        "id": "hk6nISIWP2s-"
      },
      "source": [
        "### 2.Visualize"
      ]
    },
    {
      "cell_type": "code",
      "metadata": {
        "id": "76JRzR-2n33c"
      },
      "source": [
        "!ffmpeg -i /content/data/output/smpl/smpl/%06d.jpg -vcodec libx264 /content/data/output/smpl/smpl.mp4"
      ],
      "execution_count": null,
      "outputs": []
    },
    {
      "cell_type": "code",
      "metadata": {
        "colab": {
          "background_save": true
        },
        "id": "Fh9okwAf6dsJ"
      },
      "source": [
        "from IPython.display import HTML\n",
        "from base64 import b64encode\n",
        "\n",
        "def video(path):\n",
        "  mp4 = open(path,'rb').read()\n",
        "  data_url = \"data:video/mp4;base64,\" + b64encode(mp4).decode()\n",
        "  return HTML('<video width=1024 controls loop> <source src=\"%s\" type=\"video/mp4\"></video>' % data_url)\n",
        "\n",
        "video('/content/data/output/smpl/smpl.mp4')"
      ],
      "execution_count": null,
      "outputs": []
    },
    {
      "cell_type": "markdown",
      "metadata": {
        "id": "dzzua_6ZdrM1"
      },
      "source": [
        "# 3. Export BVH"
      ]
    },
    {
      "cell_type": "code",
      "metadata": {
        "colab": {
          "background_save": true
        },
        "id": "Mr0HhyQhDhi5"
      },
      "source": [
        ""
      ],
      "execution_count": null,
      "outputs": []
    }
  ]
}